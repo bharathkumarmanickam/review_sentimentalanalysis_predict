{
 "cells": [
  {
   "cell_type": "code",
   "execution_count": 1,
   "id": "65bf1533-1d7c-49d6-bf0c-6a826cef1b9c",
   "metadata": {},
   "outputs": [],
   "source": [
    "import pandas as pd\n",
    "import numpy as np\n",
    "import matplotlib\n"
   ]
  },
  {
   "cell_type": "code",
   "execution_count": 2,
   "id": "d7e0ba6b-1921-4ed8-bdea-e20fd85875ce",
   "metadata": {},
   "outputs": [
    {
     "name": "stderr",
     "output_type": "stream",
     "text": [
      "/home/bharath/.local/lib/python3.8/site-packages/IPython/core/interactiveshell.py:3441: DtypeWarning: Columns (1,10) have mixed types.Specify dtype option on import or set low_memory=False.\n",
      "  exec(code_obj, self.user_global_ns, self.user_ns)\n"
     ]
    }
   ],
   "source": [
    "dataset = pd.read_csv(\"dataset.csv\") #poor dataset because it contains most very happy datapoints you can see in the bar graph below\n",
    "permanent = dataset[['reviews.rating' , 'reviews.text' , 'reviews.title' , 'reviews.username']]\n",
    "#print(permanent.isnull().sum(),permanent.head())\n",
    "\n"
   ]
  },
  {
   "cell_type": "code",
   "execution_count": 3,
   "id": "1a9dae66-99bd-4b51-9f29-67819f265635",
   "metadata": {},
   "outputs": [],
   "source": [
    "#checking for null values\n",
    "#check = permanent[permanent[\"reviews.rating\"].isnull()]\n",
    "#print(len(check))\n",
    "senti = []\n",
    "senti = permanent[permanent[\"reviews.rating\"].notnull()]"
   ]
  },
  {
   "cell_type": "code",
   "execution_count": 4,
   "id": "c68cce1b-03b4-4b19-ac75-3948d4a8cabc",
   "metadata": {},
   "outputs": [
    {
     "name": "stdout",
     "output_type": "stream",
     "text": [
      "finished\n"
     ]
    },
    {
     "name": "stderr",
     "output_type": "stream",
     "text": [
      "/tmp/ipykernel_8079/3965272512.py:1: SettingWithCopyWarning: \n",
      "A value is trying to be set on a copy of a slice from a DataFrame.\n",
      "Try using .loc[row_indexer,col_indexer] = value instead\n",
      "\n",
      "See the caveats in the documentation: https://pandas.pydata.org/pandas-docs/stable/user_guide/indexing.html#returning-a-view-versus-a-copy\n",
      "  senti[\"reviews.rating\"] = senti[\"reviews.rating\"].map({5.0:\"very happy\",4.0:\"happy\",3.0:\"neutral\",2.0:\"sad\",1.0:\"very sad\"})\n"
     ]
    }
   ],
   "source": [
    "senti[\"reviews.rating\"] = senti[\"reviews.rating\"].map({5.0:\"very happy\",4.0:\"happy\",3.0:\"neutral\",2.0:\"sad\",1.0:\"very sad\"})\n",
    "print(\"finished\")    "
   ]
  },
  {
   "cell_type": "code",
   "execution_count": 5,
   "id": "3e6b0ebf-0620-451c-ac02-420b9f7bcd1e",
   "metadata": {},
   "outputs": [
    {
     "data": {
      "text/plain": [
       "<AxesSubplot:>"
      ]
     },
     "execution_count": 5,
     "metadata": {},
     "output_type": "execute_result"
    },
    {
     "data": {
      "image/png": "[encoded data removed]",
      "text/plain": [
       "<Figure size 432x288 with 1 Axes>"
      ]
     },
     "metadata": {
      "needs_background": "light"
     },
     "output_type": "display_data"
    }
   ],
   "source": [
    "senti[\"reviews.rating\"].value_counts().plot.bar()"
   ]
  },
  {
   "cell_type": "code",
   "execution_count": 6,
   "id": "c368bbdf-8a41-4e56-b27c-fcf1836d813e",
   "metadata": {
    "tags": []
   },
   "outputs": [],
   "source": [
    "#successfully splitted train and test data by the following\n",
    "train_data = senti[[\"reviews.text\",\"reviews.rating\"]].sample(frac=0.8,random_state=200)\n",
    "test_data = senti[[\"reviews.text\",\"reviews.rating\"]].drop(train_data.index)\n"
   ]
  },
  {
   "cell_type": "code",
   "execution_count": 7,
   "id": "70d82d51-ad7e-432c-9395-0601cb3ccc5a",
   "metadata": {},
   "outputs": [],
   "source": [
    "from sklearn.feature_extraction.text import TfidfVectorizer\n",
    "from sklearn import svm\n",
    "from sklearn.metrics import classification_report"
   ]
  },
  {
   "cell_type": "code",
   "execution_count": 8,
   "id": "a90338d2-2339-4a6a-bcd4-c93fbac3a367",
   "metadata": {
    "tags": []
   },
   "outputs": [
    {
     "name": "stdout",
     "output_type": "stream",
     "text": [
      "Processing...\n",
      "finished\n"
     ]
    }
   ],
   "source": [
    "#linear svm \n",
    "vector = TfidfVectorizer(min_df=5,max_df=0.8,sublinear_tf=True,use_idf=True)\n",
    "train_vector = vector.fit_transform(train_data['reviews.text'].values.astype('U'))\n",
    "test_vector = vector.transform(test_data['reviews.text'].values.astype('U'))\n",
    "print(\"Processing...\")\n",
    "classifier = svm.SVC(kernel=\"sigmoid\")\n",
    "classifier.fit(train_vector,train_data['reviews.rating'])\n",
    "print(\"finished\")"
   ]
  },
  {
   "cell_type": "code",
   "execution_count": 9,
   "id": "656f25a0-0530-40fc-b5e6-f221bdfcf673",
   "metadata": {},
   "outputs": [
    {
     "name": "stdout",
     "output_type": "stream",
     "text": [
      "Very Happy {'precision': 0.749634443541836, 'recall': 0.9624530663329162, 'f1-score': 0.8428166955886383, 'support': 4794}\n",
      "Happy {'precision': 0.5160390516039052, 'recall': 0.22195560887822435, 'f1-score': 0.3104026845637584, 'support': 1667}\n",
      "Neutral {'precision': 0.41935483870967744, 'recall': 0.04452054794520548, 'f1-score': 0.0804953560371517, 'support': 292}\n",
      "Sad {'precision': 0.5, 'recall': 0.011764705882352941, 'f1-score': 0.02298850574712644, 'support': 85}\n",
      "Very sad {'precision': 0.45, 'recall': 0.10344827586206896, 'f1-score': 0.16822429906542055, 'support': 87}\n"
     ]
    }
   ],
   "source": [
    "predict_linear = classifier.predict(test_vector)\n",
    "report = classification_report(test_data['reviews.rating'],predict_linear,output_dict=True)\n",
    "print('Very Happy',report['very happy'])\n",
    "print('Happy',report['happy'])\n",
    "print('Neutral',report['neutral'])\n",
    "print('Sad',report['sad'])\n",
    "print('Very sad',report['very sad'])"
   ]
  },
  {
   "cell_type": "code",
   "execution_count": null,
   "id": "f7397bd1-82a5-4b53-9179-d6824c868776",
   "metadata": {},
   "outputs": [
    {
     "name": "stdin",
     "output_type": "stream",
     "text": [
      "Human >  i am so sad of my delivery\n"
     ]
    },
    {
     "name": "stdout",
     "output_type": "stream",
     "text": [
      "['very happy']\n"
     ]
    }
   ],
   "source": [
    "#reviews from users\n",
    "while(True):\n",
    "    i = input(\"Human > \") \n",
    "    if i == \"bye\": break\n",
    "    testplot = vector.transform([i])\n",
    "    print(classifier.predict(testplot))\n"
   ]
  },
  {
   "cell_type": "code",
   "execution_count": null,
   "id": "3c93341d-3e03-4292-bd35-e3010bf74ed5",
   "metadata": {},
   "outputs": [],
   "source": []
  }
 ],
 "metadata": {
  "kernelspec": {
   "display_name": "Python 3 (ipykernel)",
   "language": "python",
   "name": "python3"
  },
  "language_info": {
   "codemirror_mode": {
    "name": "ipython",
    "version": 3
   },
   "file_extension": ".py",
   "mimetype": "text/x-python",
   "name": "python",
   "nbconvert_exporter": "python",
   "pygments_lexer": "ipython3",
   "version": "3.8.10"
  }
 },
 "nbformat": 4,
 "nbformat_minor": 5
}
